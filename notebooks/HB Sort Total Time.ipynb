{
 "cells": [
  {
   "cell_type": "code",
   "execution_count": 1,
   "metadata": {
    "collapsed": false
   },
   "outputs": [],
   "source": [
    "try:\n",
    "    initialized\n",
    "except NameError:\n",
    "    ## Matplotlib configuration\n",
    "    %matplotlib inline\n",
    "    initialized = True\n",
    "\n",
    "from sklearn.linear_model import LinearRegression, RidgeCV\n",
    "from lib import Model, Humanizer, Plotter\n",
    "from lib.hbsort import DataFrameBuilder, ExperimentInfo\n",
    "from mynotebook import *"
   ]
  },
  {
   "cell_type": "code",
   "execution_count": 200,
   "metadata": {
    "collapsed": false
   },
   "outputs": [
    {
     "data": {
      "text/html": [
       "<div>\n",
       "<table border=\"1\" class=\"dataframe\">\n",
       "  <thead>\n",
       "    <tr style=\"text-align: right;\">\n",
       "      <th></th>\n",
       "      <th>input size (MiB)</th>\n",
       "      <th>workers</th>\n",
       "      <th>outliers</th>\n",
       "      <th>samples</th>\n",
       "      <th>available</th>\n",
       "    </tr>\n",
       "  </thead>\n",
       "  <tbody>\n",
       "    <tr>\n",
       "      <th>0</th>\n",
       "      <td>263</td>\n",
       "      <td>1</td>\n",
       "      <td>1</td>\n",
       "      <td>10</td>\n",
       "      <td>9</td>\n",
       "    </tr>\n",
       "    <tr>\n",
       "      <th>1</th>\n",
       "      <td>263</td>\n",
       "      <td>2</td>\n",
       "      <td>1</td>\n",
       "      <td>10</td>\n",
       "      <td>9</td>\n",
       "    </tr>\n",
       "    <tr>\n",
       "      <th>2</th>\n",
       "      <td>526</td>\n",
       "      <td>1</td>\n",
       "      <td>2</td>\n",
       "      <td>10</td>\n",
       "      <td>8</td>\n",
       "    </tr>\n",
       "    <tr>\n",
       "      <th>3</th>\n",
       "      <td>526</td>\n",
       "      <td>2</td>\n",
       "      <td>0</td>\n",
       "      <td>10</td>\n",
       "      <td>10</td>\n",
       "    </tr>\n",
       "    <tr>\n",
       "      <th>4</th>\n",
       "      <td>526</td>\n",
       "      <td>4</td>\n",
       "      <td>1</td>\n",
       "      <td>10</td>\n",
       "      <td>9</td>\n",
       "    </tr>\n",
       "    <tr>\n",
       "      <th>5</th>\n",
       "      <td>1051</td>\n",
       "      <td>1</td>\n",
       "      <td>2</td>\n",
       "      <td>10</td>\n",
       "      <td>8</td>\n",
       "    </tr>\n",
       "    <tr>\n",
       "      <th>6</th>\n",
       "      <td>1051</td>\n",
       "      <td>2</td>\n",
       "      <td>3</td>\n",
       "      <td>10</td>\n",
       "      <td>7</td>\n",
       "    </tr>\n",
       "    <tr>\n",
       "      <th>7</th>\n",
       "      <td>1051</td>\n",
       "      <td>4</td>\n",
       "      <td>0</td>\n",
       "      <td>10</td>\n",
       "      <td>10</td>\n",
       "    </tr>\n",
       "    <tr>\n",
       "      <th>8</th>\n",
       "      <td>1051</td>\n",
       "      <td>8</td>\n",
       "      <td>0</td>\n",
       "      <td>10</td>\n",
       "      <td>10</td>\n",
       "    </tr>\n",
       "    <tr>\n",
       "      <th>9</th>\n",
       "      <td>2102</td>\n",
       "      <td>2</td>\n",
       "      <td>1</td>\n",
       "      <td>10</td>\n",
       "      <td>9</td>\n",
       "    </tr>\n",
       "    <tr>\n",
       "      <th>10</th>\n",
       "      <td>2102</td>\n",
       "      <td>4</td>\n",
       "      <td>2</td>\n",
       "      <td>10</td>\n",
       "      <td>8</td>\n",
       "    </tr>\n",
       "    <tr>\n",
       "      <th>11</th>\n",
       "      <td>2102</td>\n",
       "      <td>8</td>\n",
       "      <td>0</td>\n",
       "      <td>10</td>\n",
       "      <td>10</td>\n",
       "    </tr>\n",
       "  </tbody>\n",
       "</table>\n",
       "</div>"
      ],
      "text/plain": [
       "    input size (MiB)  workers  outliers  samples  available\n",
       "0                263        1         1       10          9\n",
       "1                263        2         1       10          9\n",
       "2                526        1         2       10          8\n",
       "3                526        2         0       10         10\n",
       "4                526        4         1       10          9\n",
       "5               1051        1         2       10          8\n",
       "6               1051        2         3       10          7\n",
       "7               1051        4         0       10         10\n",
       "8               1051        8         0       10         10\n",
       "9               2102        2         1       10          9\n",
       "10              2102        4         2       10          8\n",
       "11              2102        8         0       10         10"
      ]
     },
     "metadata": {},
     "output_type": "display_data"
    },
    {
     "data": {
      "text/html": [
       "<div>\n",
       "<table border=\"1\" class=\"dataframe\">\n",
       "  <thead>\n",
       "    <tr style=\"text-align: right;\">\n",
       "      <th></th>\n",
       "      <th>input size (GiB)</th>\n",
       "      <th>workers</th>\n",
       "      <th>outliers</th>\n",
       "      <th>samples</th>\n",
       "      <th>available</th>\n",
       "    </tr>\n",
       "  </thead>\n",
       "  <tbody>\n",
       "    <tr>\n",
       "      <th>0</th>\n",
       "      <td>3</td>\n",
       "      <td>1</td>\n",
       "      <td>0</td>\n",
       "      <td>10</td>\n",
       "      <td>10</td>\n",
       "    </tr>\n",
       "    <tr>\n",
       "      <th>1</th>\n",
       "      <td>3</td>\n",
       "      <td>2</td>\n",
       "      <td>1</td>\n",
       "      <td>10</td>\n",
       "      <td>9</td>\n",
       "    </tr>\n",
       "    <tr>\n",
       "      <th>2</th>\n",
       "      <td>3</td>\n",
       "      <td>4</td>\n",
       "      <td>1</td>\n",
       "      <td>10</td>\n",
       "      <td>9</td>\n",
       "    </tr>\n",
       "    <tr>\n",
       "      <th>3</th>\n",
       "      <td>3</td>\n",
       "      <td>8</td>\n",
       "      <td>1</td>\n",
       "      <td>10</td>\n",
       "      <td>9</td>\n",
       "    </tr>\n",
       "    <tr>\n",
       "      <th>4</th>\n",
       "      <td>3</td>\n",
       "      <td>12</td>\n",
       "      <td>0</td>\n",
       "      <td>10</td>\n",
       "      <td>10</td>\n",
       "    </tr>\n",
       "    <tr>\n",
       "      <th>5</th>\n",
       "      <td>3</td>\n",
       "      <td>16</td>\n",
       "      <td>0</td>\n",
       "      <td>10</td>\n",
       "      <td>10</td>\n",
       "    </tr>\n",
       "  </tbody>\n",
       "</table>\n",
       "</div>"
      ],
      "text/plain": [
       "   input size (GiB)  workers  outliers  samples  available\n",
       "0                 3        1         0       10         10\n",
       "1                 3        2         1       10          9\n",
       "2                 3        4         1       10          9\n",
       "3                 3        8         1       10          9\n",
       "4                 3       12         0       10         10\n",
       "5                 3       16         0       10         10"
      ]
     },
     "metadata": {},
     "output_type": "display_data"
    },
    {
     "data": {
      "text/html": [
       "<div>\n",
       "<table border=\"1\" class=\"dataframe\">\n",
       "  <thead>\n",
       "    <tr style=\"text-align: right;\">\n",
       "      <th></th>\n",
       "      <th>input size (GiB)</th>\n",
       "      <th>workers</th>\n",
       "      <th>outliers</th>\n",
       "      <th>samples</th>\n",
       "      <th>available</th>\n",
       "    </tr>\n",
       "  </thead>\n",
       "  <tbody>\n",
       "    <tr>\n",
       "      <th>0</th>\n",
       "      <td>31</td>\n",
       "      <td>16</td>\n",
       "      <td>1</td>\n",
       "      <td>10</td>\n",
       "      <td>9</td>\n",
       "    </tr>\n",
       "    <tr>\n",
       "      <th>1</th>\n",
       "      <td>31</td>\n",
       "      <td>32</td>\n",
       "      <td>1</td>\n",
       "      <td>10</td>\n",
       "      <td>9</td>\n",
       "    </tr>\n",
       "    <tr>\n",
       "      <th>2</th>\n",
       "      <td>31</td>\n",
       "      <td>64</td>\n",
       "      <td>2</td>\n",
       "      <td>10</td>\n",
       "      <td>8</td>\n",
       "    </tr>\n",
       "    <tr>\n",
       "      <th>3</th>\n",
       "      <td>31</td>\n",
       "      <td>123</td>\n",
       "      <td>1</td>\n",
       "      <td>10</td>\n",
       "      <td>9</td>\n",
       "    </tr>\n",
       "    <tr>\n",
       "      <th>4</th>\n",
       "      <td>31</td>\n",
       "      <td>128</td>\n",
       "      <td>0</td>\n",
       "      <td>10</td>\n",
       "      <td>10</td>\n",
       "    </tr>\n",
       "  </tbody>\n",
       "</table>\n",
       "</div>"
      ],
      "text/plain": [
       "   input size (GiB)  workers  outliers  samples  available\n",
       "0                31       16         1       10          9\n",
       "1                31       32         1       10          9\n",
       "2                31       64         2       10          8\n",
       "3                31      123         1       10          9\n",
       "4                31      128         0       10         10"
      ]
     },
     "metadata": {},
     "output_type": "display_data"
    }
   ],
   "source": [
    "# load all profiling and target with workers, input size and time\n",
    "exp_info = ExperimentInfo(threads=2, block_size=128 * 1024**2)\n",
    "df_builder = DataFrameBuilder(threads=exp_info.threads)\n",
    "prof_out = df_builder.get_profiling()\n",
    "target1_out = df_builder.get_target(0)\n",
    "target2_out = df_builder.get_target(1)\n",
    "\n",
    "humanizer = Humanizer(size=Humanizer.SIZE_MIB)\n",
    "prof = process_outliers(prof_out, humanizer)\n",
    "humanizer = Humanizer(size=Humanizer.SIZE_GIB)\n",
    "target1 = process_outliers(target1_out, humanizer)\n",
    "target2 = process_outliers(target2_out, humanizer)"
   ]
  },
  {
   "cell_type": "code",
   "execution_count": 817,
   "metadata": {
    "collapsed": false
   },
   "outputs": [],
   "source": [
    "import numpy as np\n",
    "\n",
    "\n",
    "def get_iterations_by_blocks(inputs, threads, block_size):\n",
    "    tasks = np.ceil(inputs / block_size)\n",
    "    first = (tasks > 0).astype('int')\n",
    "    #nonfirst = np.ceil((tasks - threads) / threads).astype('int')\n",
    "    nonfirst = (tasks - threads) / threads\n",
    "    nonfirst[nonfirst < 0] = 0\n",
    "    return first, nonfirst\n",
    "\n",
    "def get_iterations_by_n_tasks(threads, tasks):\n",
    "    first = [1] * len(threads)\n",
    "    #nonfirst = np.ceil((tasks - threads) / threads).astype('int')\n",
    "    nonfirst = (tasks - threads) / threads\n",
    "    nonfirst[nonfirst < 0] = 0\n",
    "    return first, nonfirst\n",
    "\n",
    "def get_extra_df(df, exp_info):\n",
    "    extra = pd.DataFrame()\n",
    "    extra['workers'] = df.workers\n",
    "    threads = df.workers * exp_info.threads\n",
    "    _, extra['iters_stg0_nf'] = get_iterations_by_blocks(df.input,\n",
    "                                                                             threads,\n",
    "                                                                             exp_info.block_size)\n",
    "    _, extra['iters_stg1_nf'] = get_iterations_by_n_tasks(threads, 200)\n",
    "    extra['ms'] = df.ms\n",
    "    return extra\n",
    "    \n",
    "    extra = pd.DataFrame()\n",
    "    extra['workers'] = df.workers\n",
    "    extra['input'] = df.input\n",
    "    threads = df.workers * exp_info.threads\n",
    "    extra['iters_stg0_f'], extra['iters_stg0_nf'] = get_iterations_by_blocks(df.input,\n",
    "                                                                             threads,\n",
    "                                                                             exp_info.block_size)\n",
    "    extra['iters_stg1_f'], extra['iters_stg1_nf'] = get_iterations_by_n_tasks(threads, 200)\n",
    "    extra['sqrt_iters_stg0_nf'] = np.sqrt(extra['iters_stg0_nf'])\n",
    "    select = extra['iters_stg1_nf'] > 0\n",
    "    col = 'input_per_iter_stg1_nf'\n",
    "    extra.loc[select, col] = df[select].input / (extra[select]['iters_stg1_nf'] + extra[select]['iters_stg1_f']) # reduce task size\n",
    "    extra.loc[~select, col] = 0\n",
    "    select = extra['iters_stg0_nf'] > 0\n",
    "    col = 'input_per_iter_stg0_nf'\n",
    "    extra.loc[select, col] = df[select].input / (extra[select]['iters_stg0_nf'] + extra[select]['iters_stg0_f'])\n",
    "    extra.loc[~select, col] = 0\n",
    "    extra.drop('iters_stg0_f', axis=1, inplace=True)\n",
    "    extra.drop('iters_stg1_f', axis=1, inplace=True)\n",
    "    extra['ms'] = df.ms\n",
    "\n",
    "    #extra['workers2'] = df.workers ** 2\n",
    "    #extra['log_workers'] = np.log2(df.workers)\n",
    "    #extra['log_input'] = np.log2(df.input)\n",
    "    #extra['input_per_worker'] = df.input / df.workers\n",
    "    #extra['log_input_per_worker'] = np.log2(df.input / df.workers)\n",
    "    #extra['sqrt_iters_stg1_nf'] = np.sqrt(extra['iters_stg1_nf'])\n",
    "    #extra['iters_stg0_nf_x_w'] = extra['iters_stg0_nf'] * df.workers\n",
    "    #extra['iters_stg1_nf_x_w'] = extra['iters_stg1_nf'] * df.workers\n",
    "    #extra['iters_stg0_nf_x_lw'] = extra['iters_stg0_nf'] * np.log2(df.workers)\n",
    "    #extra['iters_stg1_nf_x_lw'] = extra['iters_stg1_nf'] * np.log2(df.workers)\n",
    "    #extra['a'] = extra['iters_stg0_nf'] * extra['workers']\n",
    "    #extra['b'] = extra['iters_stg1_nf'] * extra['workers']\n",
    "    #extra['c'] = extra['iters_stg0_nf'] * extra['iters_stg1_nf']\n",
    "    #extra['d'] = df.input * df.workers\n",
    "\n",
    "    #extra['input'] /= 128 * 1024**2\n",
    "    #extra['iters_stg0_nf_2'] = extra['iters_stg0_nf'] ** 2\n",
    "    #extra['iters_stg1_nf_2'] = extra['iters_stg1_nf'] ** 2\n",
    "    \n",
    "    return extra"
   ]
  },
  {
   "cell_type": "code",
   "execution_count": 818,
   "metadata": {
    "collapsed": false
   },
   "outputs": [
    {
     "data": {
      "text/html": [
       "<div>\n",
       "<table border=\"1\" class=\"dataframe\">\n",
       "  <thead>\n",
       "    <tr style=\"text-align: right;\">\n",
       "      <th></th>\n",
       "      <th>workers</th>\n",
       "      <th>iters_stg0_nf</th>\n",
       "      <th>iters_stg1_nf</th>\n",
       "      <th>ms</th>\n",
       "    </tr>\n",
       "  </thead>\n",
       "  <tbody>\n",
       "    <tr>\n",
       "      <th>0</th>\n",
       "      <td>2</td>\n",
       "      <td>5.25</td>\n",
       "      <td>49.00</td>\n",
       "      <td>133991.56</td>\n",
       "    </tr>\n",
       "    <tr>\n",
       "      <th>1</th>\n",
       "      <td>4</td>\n",
       "      <td>2.12</td>\n",
       "      <td>24.00</td>\n",
       "      <td>87356.44</td>\n",
       "    </tr>\n",
       "    <tr>\n",
       "      <th>2</th>\n",
       "      <td>8</td>\n",
       "      <td>0.56</td>\n",
       "      <td>11.50</td>\n",
       "      <td>61925.00</td>\n",
       "    </tr>\n",
       "    <tr>\n",
       "      <th>3</th>\n",
       "      <td>16</td>\n",
       "      <td>0.00</td>\n",
       "      <td>5.25</td>\n",
       "      <td>47477.70</td>\n",
       "    </tr>\n",
       "    <tr>\n",
       "      <th>4</th>\n",
       "      <td>16</td>\n",
       "      <td>6.66</td>\n",
       "      <td>5.25</td>\n",
       "      <td>328359.22</td>\n",
       "    </tr>\n",
       "    <tr>\n",
       "      <th>5</th>\n",
       "      <td>32</td>\n",
       "      <td>2.83</td>\n",
       "      <td>2.12</td>\n",
       "      <td>284544.11</td>\n",
       "    </tr>\n",
       "    <tr>\n",
       "      <th>6</th>\n",
       "      <td>128</td>\n",
       "      <td>0.00</td>\n",
       "      <td>0.00</td>\n",
       "      <td>174298.40</td>\n",
       "    </tr>\n",
       "  </tbody>\n",
       "</table>\n",
       "</div>"
      ],
      "text/plain": [
       "   workers  iters_stg0_nf  iters_stg1_nf         ms\n",
       "0        2           5.25          49.00  133991.56\n",
       "1        4           2.12          24.00   87356.44\n",
       "2        8           0.56          11.50   61925.00\n",
       "3       16           0.00           5.25   47477.70\n",
       "4       16           6.66           5.25  328359.22\n",
       "5       32           2.83           2.12  284544.11\n",
       "6      128           0.00           0.00  174298.40"
      ]
     },
     "metadata": {},
     "output_type": "display_data"
    },
    {
     "data": {
      "text/html": [
       "<div>\n",
       "<table border=\"1\" class=\"dataframe\">\n",
       "  <thead>\n",
       "    <tr style=\"text-align: right;\">\n",
       "      <th></th>\n",
       "      <th>workers</th>\n",
       "      <th>iters_stg0_nf</th>\n",
       "      <th>iters_stg1_nf</th>\n",
       "      <th>ms</th>\n",
       "    </tr>\n",
       "  </thead>\n",
       "  <tbody>\n",
       "    <tr>\n",
       "      <th>10</th>\n",
       "      <td>2</td>\n",
       "      <td>5.25</td>\n",
       "      <td>49.0</td>\n",
       "      <td>135677</td>\n",
       "    </tr>\n",
       "  </tbody>\n",
       "</table>\n",
       "</div>"
      ],
      "text/plain": [
       "    workers  iters_stg0_nf  iters_stg1_nf      ms\n",
       "10        2           5.25           49.0  135677"
      ]
     },
     "metadata": {},
     "output_type": "display_data"
    },
    {
     "data": {
      "text/html": [
       "<div>\n",
       "<table border=\"1\" class=\"dataframe\">\n",
       "  <thead>\n",
       "    <tr style=\"text-align: right;\">\n",
       "      <th></th>\n",
       "      <th>workers</th>\n",
       "      <th>iters_stg0_nf</th>\n",
       "      <th>iters_stg1_nf</th>\n",
       "      <th>ms</th>\n",
       "    </tr>\n",
       "  </thead>\n",
       "  <tbody>\n",
       "    <tr>\n",
       "      <th>180</th>\n",
       "      <td>16</td>\n",
       "      <td>6.66</td>\n",
       "      <td>5.25</td>\n",
       "      <td>324576</td>\n",
       "    </tr>\n",
       "  </tbody>\n",
       "</table>\n",
       "</div>"
      ],
      "text/plain": [
       "     workers  iters_stg0_nf  iters_stg1_nf      ms\n",
       "180       16           6.66           5.25  324576"
      ]
     },
     "metadata": {},
     "output_type": "display_data"
    },
    {
     "data": {
      "text/plain": [
       "[0.14731421810628348,\n",
       " (2, 0.030615453296159688),\n",
       " (4, 0.007893067827503215),\n",
       " (8, 0.0904865390428037),\n",
       " (16, 0.30893383147341713),\n",
       " (32, 0.23143254805984795),\n",
       " (128, 0.052904255570835564)]"
      ]
     },
     "metadata": {},
     "output_type": "display_data"
    },
    {
     "data": {
      "text/plain": [
       "[0.1588707608518695,\n",
       " (2, 0.030450947660484326),\n",
       " (4, 0.02463531168866663),\n",
       " (8, 0.09305779892287358),\n",
       " (16, 0.3255065024804362),\n",
       " (32, 0.230666368013604),\n",
       " (128, 0.07326820716725713)]"
      ]
     },
     "metadata": {},
     "output_type": "display_data"
    },
    {
     "data": {
      "text/plain": [
       "78019.817339377274"
      ]
     },
     "metadata": {},
     "output_type": "display_data"
    },
    {
     "data": {
      "text/plain": [
       "array([   824.2164825 ,  43115.15163879,  -3594.56026661])"
      ]
     },
     "metadata": {},
     "output_type": "display_data"
    },
    {
     "data": {
      "image/png": "[encoded data removed]",
      "text/plain": [
       "<matplotlib.figure.Figure at 0x7fe90d238860>"
      ]
     },
     "metadata": {},
     "output_type": "display_data"
    },
    {
     "data": {
      "text/plain": [
       "[0.1800981776471546,\n",
       " (2, 0.030450947660484326),\n",
       " (4, 0.02463531168866663),\n",
       " (8, 0.09305779892287358),\n",
       " (16, 0.53303360484965)]"
      ]
     },
     "metadata": {},
     "output_type": "display_data"
    },
    {
     "data": {
      "image/png": "[encoded data removed]",
      "text/plain": [
       "<matplotlib.figure.Figure at 0x7fe90d48b7b8>"
      ]
     },
     "metadata": {},
     "output_type": "display_data"
    },
    {
     "data": {
      "text/plain": [
       "[0.130820245800957,\n",
       " (16, 0.09492083318130987),\n",
       " (32, 0.230666368013604),\n",
       " (128, 0.07326820716725713)]"
      ]
     },
     "metadata": {},
     "output_type": "display_data"
    }
   ],
   "source": [
    "# Make regressions on total application time\n",
    "_target1 = target1[(target1.workers != 12) & (target1.workers != 1)]\n",
    "_target2 = target2[(target2.workers != 123) & (target2.workers != 64)]\n",
    "_prof = pd.concat([_target1, _target2])\n",
    "#_prof = prof#[prof.workers < 8]\n",
    "_prof = _prof.groupby(['workers', 'input']).mean().reset_index()\n",
    "\n",
    "_prof = get_extra_df(_prof, exp_info)\n",
    "_target1 = get_extra_df(_target1, exp_info)\n",
    "_target2 = get_extra_df(_target2, exp_info)\n",
    "\n",
    "display(_prof)\n",
    "display(_target1.head(1))\n",
    "display(_target2.head(1))\n",
    "model = Model(LinearRegression())\n",
    "model.fit(_prof)\n",
    "linear = model.get_linreg()\n",
    "display(model.score(_prof))\n",
    "display(model.score(pd.concat([_target1, _target2])))\n",
    "display(linear.intercept_, linear.coef_)\n",
    "\n",
    "#plotter = Plotter()\n",
    "#sizes = _prof['input']\n",
    "#for size in sizes.unique():\n",
    "#    prof_size = _prof[sizes == size]\n",
    "#    plotter.plot_model(model, prof_size)\n",
    "#    display('{:d}: {}'.format( np.round(size / 1024 ** 2).astype('int'), model.score(prof_size)[0]))\n",
    "\n",
    "plotter = Plotter((1.5, 16.5))\n",
    "plotter.plot_model(model, _target1)\n",
    "display(model.score(_target1))\n",
    "\n",
    "plotter = Plotter((13, 131))\n",
    "plotter.plot_model(model, _target2)\n",
    "display(model.score(_target2))"
   ]
  },
  {
   "cell_type": "code",
   "execution_count": 819,
   "metadata": {
    "collapsed": false
   },
   "outputs": [
    {
     "name": "stdout",
     "output_type": "stream",
     "text": [
      "-3594.560267 iters_stg1_nf\n",
      "824.216482 workers\n",
      "43115.151639 iters_stg0_nf\n"
     ]
    }
   ],
   "source": [
    "coefs = model.get_linreg().coef_\n",
    "cols = _prof.columns\n",
    "val_var = [(coef, col) for coef, col in zip(coefs, cols)]\n",
    "for value, var in sorted(val_var, key=lambda x: x[0]):\n",
    "    print('{:f} {}'.format(value, var))"
   ]
  },
  {
   "cell_type": "code",
   "execution_count": null,
   "metadata": {
    "collapsed": true
   },
   "outputs": [],
   "source": []
  }
 ],
 "metadata": {
  "kernelspec": {
   "display_name": "Python 3",
   "language": "python",
   "name": "python3"
  },
  "language_info": {
   "codemirror_mode": {
    "name": "ipython",
    "version": 3
   },
   "file_extension": ".py",
   "mimetype": "text/x-python",
   "name": "python",
   "nbconvert_exporter": "python",
   "pygments_lexer": "ipython3",
   "version": "3.5.1"
  }
 },
 "nbformat": 4,
 "nbformat_minor": 0
}
