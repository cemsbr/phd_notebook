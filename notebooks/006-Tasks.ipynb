{
 "cells": [
  {
   "cell_type": "markdown",
   "metadata": {},
   "source": [
    "<h1 align=\"center\">Prediction with the Number of Tasks</h1>"
   ]
  },
  {
   "cell_type": "code",
   "execution_count": 1,
   "metadata": {
    "collapsed": false
   },
   "outputs": [],
   "source": [
    "from inc.notebook006 import *"
   ]
  },
  {
   "cell_type": "markdown",
   "metadata": {},
   "source": [
    "# Using tasks/workers"
   ]
  },
  {
   "cell_type": "code",
   "execution_count": 2,
   "metadata": {
    "collapsed": true
   },
   "outputs": [],
   "source": [
    "all_cols = pd.read_csv(Bundler.get_bundle('outlier_detection').get_file('no_outliers.csv'))"
   ]
  },
  {
   "cell_type": "code",
   "execution_count": 3,
   "metadata": {
    "collapsed": false
   },
   "outputs": [
    {
     "name": "stdout",
     "output_type": "stream",
     "text": [
      "Profiling:\n",
      "- wikipedia profiling RMSE = 1.24 sec\n",
      "- hbsort profiling RMSE = 16.07 sec\n",
      "- hbkmeans profiling RMSE = 8.16 sec\n",
      "Target:\n",
      "- wikipedia target RMSE = 13.88 sec\n",
      "- hbsort target RMSE = 165.26 sec\n",
      "- hbkmeans target RMSE = 22.69 sec\n"
     ]
    }
   ],
   "source": [
    "# stage / workers\n",
    "def stage_workers(df, stage):\n",
    "    return df[stage] / df.workers\n",
    "\n",
    "cols = get_prediction_cols(all_cols, stage_workers)\n",
    "Predictor(cols).evaluate()"
   ]
  },
  {
   "cell_type": "code",
   "execution_count": 4,
   "metadata": {
    "collapsed": false
   },
   "outputs": [
    {
     "name": "stdout",
     "output_type": "stream",
     "text": [
      "Profiling:\n",
      "- wikipedia profiling RMSE = 3.11 sec\n",
      "- hbsort profiling RMSE = 18.89 sec\n",
      "- hbkmeans profiling RMSE = 4.19 sec\n",
      "Target:\n",
      "- wikipedia target RMSE = 17.01 sec\n",
      "- hbsort target RMSE = 177.02 sec\n",
      "- hbkmeans target RMSE = 22.59 sec\n"
     ]
    }
   ],
   "source": [
    "# input / stage / workers\n",
    "def input_stage_workers(df, stage):\n",
    "    return df.input / df[stage] / df.workers\n",
    "\n",
    "cols = get_prediction_cols(all_cols, input_stage_workers)\n",
    "Predictor(cols).evaluate()"
   ]
  },
  {
   "cell_type": "code",
   "execution_count": null,
   "metadata": {
    "collapsed": true
   },
   "outputs": [],
   "source": []
  }
 ],
 "metadata": {
  "kernelspec": {
   "display_name": "Python 3",
   "language": "python",
   "name": "python3"
  },
  "language_info": {
   "codemirror_mode": {
    "name": "ipython",
    "version": 3
   },
   "file_extension": ".py",
   "mimetype": "text/x-python",
   "name": "python",
   "nbconvert_exporter": "python",
   "pygments_lexer": "ipython3",
   "version": "3.5.2"
  }
 },
 "nbformat": 4,
 "nbformat_minor": 1
}
