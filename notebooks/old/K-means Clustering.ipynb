{
 "cells": [
  {
   "cell_type": "markdown",
   "metadata": {},
   "source": [
    "<h1 align=\"center\">K-means Clustering</h1>"
   ]
  },
  {
   "cell_type": "code",
   "execution_count": 3,
   "metadata": {
    "collapsed": false
   },
   "outputs": [],
   "source": [
    "# Slow\n",
    "apps = parse_apps('kmeans')\n",
    "b2s = bytes2samples(apps)"
   ]
  },
  {
   "cell_type": "markdown",
   "metadata": {},
   "source": [
    "# Predicting the number of tasks per stage"
   ]
  },
  {
   "cell_type": "code",
   "execution_count": 104,
   "metadata": {
    "collapsed": false
   },
   "outputs": [
    {
     "data": {
      "text/html": [
       "<div>\n",
       "<table border=\"1\" class=\"dataframe\">\n",
       "  <thead>\n",
       "    <tr style=\"text-align: right;\">\n",
       "      <th></th>\n",
       "      <th>samples</th>\n",
       "      <th>stage</th>\n",
       "      <th>tasks</th>\n",
       "    </tr>\n",
       "  </thead>\n",
       "  <tbody>\n",
       "    <tr>\n",
       "      <th>7567</th>\n",
       "      <td>128</td>\n",
       "      <td>1</td>\n",
       "      <td>5</td>\n",
       "    </tr>\n",
       "    <tr>\n",
       "      <th>12070</th>\n",
       "      <td>32</td>\n",
       "      <td>6</td>\n",
       "      <td>5</td>\n",
       "    </tr>\n",
       "    <tr>\n",
       "      <th>3928</th>\n",
       "      <td>2048</td>\n",
       "      <td>2</td>\n",
       "      <td>5</td>\n",
       "    </tr>\n",
       "  </tbody>\n",
       "</table>\n",
       "</div>"
      ],
      "text/plain": [
       "       samples  stage  tasks\n",
       "7567       128      1      5\n",
       "12070       32      6      5\n",
       "3928      2048      2      5"
      ]
     },
     "execution_count": 104,
     "metadata": {},
     "output_type": "execute_result"
    }
   ],
   "source": [
    "_rows = {'samples': [], 'stage': [], 'tasks': []}\n",
    "for app in apps:\n",
    "    input_size = get_input_size(app)\n",
    "    samples = b2s[input_size]\n",
    "    for stage_id, stage in enumerate(app.stages):\n",
    "        tasks = sum(1 for t in stage.tasks if not t.failed)\n",
    "        _rows['samples'].append(samples)\n",
    "        _rows['stage'].append(stage_id)\n",
    "        _rows['tasks'].append(tasks)\n",
    "\n",
    "# Tasks per stage data frame\n",
    "df_tps = pd.DataFrame(_rows)\n",
    "del _rows\n",
    "df_tps.sample(3)"
   ]
  },
  {
   "cell_type": "code",
   "execution_count": 211,
   "metadata": {
    "collapsed": false
   },
   "outputs": [
    {
     "data": {
      "text/html": [
       "<div>\n",
       "<table border=\"1\" class=\"dataframe\">\n",
       "  <thead>\n",
       "    <tr style=\"text-align: right;\">\n",
       "      <th>samples</th>\n",
       "      <th>32</th>\n",
       "      <th>64</th>\n",
       "      <th>128</th>\n",
       "      <th>256</th>\n",
       "      <th>512</th>\n",
       "      <th>1024</th>\n",
       "      <th>2048</th>\n",
       "      <th>4096</th>\n",
       "      <th>8192</th>\n",
       "      <th>16384</th>\n",
       "    </tr>\n",
       "    <tr>\n",
       "      <th>stage</th>\n",
       "      <th></th>\n",
       "      <th></th>\n",
       "      <th></th>\n",
       "      <th></th>\n",
       "      <th></th>\n",
       "      <th></th>\n",
       "      <th></th>\n",
       "      <th></th>\n",
       "      <th></th>\n",
       "      <th></th>\n",
       "    </tr>\n",
       "  </thead>\n",
       "  <tbody>\n",
       "    <tr>\n",
       "      <th>0</th>\n",
       "      <td>5</td>\n",
       "      <td>5</td>\n",
       "      <td>5</td>\n",
       "      <td>5</td>\n",
       "      <td>5</td>\n",
       "      <td>5</td>\n",
       "      <td>5</td>\n",
       "      <td>10</td>\n",
       "      <td>25</td>\n",
       "      <td>100</td>\n",
       "    </tr>\n",
       "    <tr>\n",
       "      <th>1</th>\n",
       "      <td>5</td>\n",
       "      <td>5</td>\n",
       "      <td>5</td>\n",
       "      <td>5</td>\n",
       "      <td>5</td>\n",
       "      <td>5</td>\n",
       "      <td>5</td>\n",
       "      <td>10</td>\n",
       "      <td>25</td>\n",
       "      <td>100</td>\n",
       "    </tr>\n",
       "    <tr>\n",
       "      <th>...</th>\n",
       "      <td>...</td>\n",
       "      <td>...</td>\n",
       "      <td>...</td>\n",
       "      <td>...</td>\n",
       "      <td>...</td>\n",
       "      <td>...</td>\n",
       "      <td>...</td>\n",
       "      <td>...</td>\n",
       "      <td>...</td>\n",
       "      <td>...</td>\n",
       "    </tr>\n",
       "    <tr>\n",
       "      <th>24</th>\n",
       "      <td>2</td>\n",
       "      <td>2</td>\n",
       "      <td>2</td>\n",
       "      <td>2</td>\n",
       "      <td>2</td>\n",
       "      <td>2</td>\n",
       "      <td>2</td>\n",
       "      <td>2</td>\n",
       "      <td>2</td>\n",
       "      <td>2</td>\n",
       "    </tr>\n",
       "    <tr>\n",
       "      <th>25</th>\n",
       "      <td>5</td>\n",
       "      <td>5</td>\n",
       "      <td>5</td>\n",
       "      <td>5</td>\n",
       "      <td>5</td>\n",
       "      <td>5</td>\n",
       "      <td>5</td>\n",
       "      <td>10</td>\n",
       "      <td>25</td>\n",
       "      <td>100</td>\n",
       "    </tr>\n",
       "  </tbody>\n",
       "</table>\n",
       "<p>26 rows × 10 columns</p>\n",
       "</div>"
      ],
      "text/plain": [
       "samples  32     64     128    256    512    1024   2048   4096   8192   16384\n",
       "stage                                                                        \n",
       "0            5      5      5      5      5      5      5     10     25    100\n",
       "1            5      5      5      5      5      5      5     10     25    100\n",
       "...        ...    ...    ...    ...    ...    ...    ...    ...    ...    ...\n",
       "24           2      2      2      2      2      2      2      2      2      2\n",
       "25           5      5      5      5      5      5      5     10     25    100\n",
       "\n",
       "[26 rows x 10 columns]"
      ]
     },
     "execution_count": 211,
     "metadata": {},
     "output_type": "execute_result"
    }
   ],
   "source": [
    "_group = df_tps.groupby(['samples', 'stage'])        # group by samples and stage\n",
    "for nr_of_tasks in _group['tasks'].unique().values:  # different tasks quantities\n",
    "    # the number of tasks is the same for a given stage and number of samples\n",
    "    assert len(nr_of_tasks) == 1                     \n",
    "\n",
    "df_tps_uniq = _group['tasks'].unique().apply(lambda x: x[0])\n",
    "del _group\n",
    "df_tps_uniq = df_tps_uniq.unstack(-2)\n",
    "df_tps_uniq#.loc[[0, 14]]"
   ]
  },
  {
   "cell_type": "code",
   "execution_count": 212,
   "metadata": {
    "collapsed": false
   },
   "outputs": [
    {
     "name": "stdout",
     "output_type": "stream",
     "text": [
      "Stage 0:\n",
      "- Degree 1: [4 5 5 5 6 6 6 7 7 7]\n",
      "- Degree 2: [ 5  5  5  5  5  5  6  8 11 15]\n",
      "- Degree 3: [ 5  5  5  5  5  5  6  9 20 63]\n",
      "- Degree 4: [  5   5   5   5   5   5   5  10  44 783]\n"
     ]
    }
   ],
   "source": [
    "# Profiling phase data frame\n",
    "df_prof = df_tps_uniq.stack().reset_index(name='tasks')\n",
    "df_prof = df_prof[df_prof.samples < 8192]\n",
    "\n",
    "from sklearn import linear_model, metrics\n",
    "from sklearn.pipeline import Pipeline\n",
    "from sklearn.preprocessing import PolynomialFeatures\n",
    "\n",
    "# Stage 0 prediction\n",
    "def log_model(degree):\n",
    "    method = linear_model.LinearRegression(fit_intercept=False)\n",
    "    model = Pipeline([('poly', PolynomialFeatures(degree=degree)), ('method', method)])\n",
    "    df0 = df_prof[df_prof.stage == 0].drop('stage', axis=1).apply(np.log2)\n",
    "    model.fit(df0['samples'].reshape(-1, 1), df0['tasks'])\n",
    "    prediction = model.predict(np.arange(5, 15).reshape(-1,1))\n",
    "    return np.power(2, prediction).round().astype(int)\n",
    "\n",
    "print('Stage 0:')\n",
    "for degree in range(1, 5):\n",
    "    print('- Degree {:d}: {}'.format(degree, log_model(degree)))"
   ]
  },
  {
   "cell_type": "markdown",
   "metadata": {},
   "source": [
    "# Two models"
   ]
  },
  {
   "cell_type": "markdown",
   "metadata": {},
   "source": [
    "## Cache effect"
   ]
  },
  {
   "cell_type": "code",
   "execution_count": null,
   "metadata": {
    "collapsed": true
   },
   "outputs": [],
   "source": [
    "# Test with visual detection (on profiling fase?! Maybe it is better to automate.\n",
    "# But it is difficult. First, try on real data and check if it is feasible)"
   ]
  },
  {
   "cell_type": "code",
   "execution_count": 474,
   "metadata": {
    "collapsed": false
   },
   "outputs": [
    {
     "name": "stdout",
     "output_type": "stream",
     "text": [
      "5 outliers from 740 measurements. There are 10 executions for each input/worker combination:\n",
      "input  workers\n",
      "32     2          1\n",
      "       3          2\n",
      "       8          1\n",
      "16384  128        1\n",
      "dtype: int64\n"
     ]
    }
   ],
   "source": [
    "def get_total_time_df(apps):\n",
    "    columns = ['input', 'workers', 'seconds']\n",
    "    table = {col: [] for col in columns}\n",
    "    for app in apps:\n",
    "        bytes_read = get_bytes_read(app)\n",
    "        table['input'].append(bytes_read)\n",
    "        table['workers'].append(app.slaves)\n",
    "        table['seconds'].append(app.duration)\n",
    "\n",
    "    df = pd.DataFrame(table, columns=columns)\n",
    "    df.seconds /= 1000\n",
    "    df.input = df.input.apply(lambda b: b2s[b])\n",
    "    return df\n",
    "\n",
    "df = get_total_time_df(apps)\n",
    "\n",
    "# Outliers\n",
    "outliers = calc_outliers(df, 'seconds', ['input', 'workers'], 3)\n",
    "print('{:d} outliers from {:d} measurements.'.format(sum(outliers), len(outliers)), end=' ')\n",
    "print('There are 10 executions for each input/worker combination:')\n",
    "print(df[outliers].groupby(columns[:-1]).size())"
   ]
  },
  {
   "cell_type": "markdown",
   "metadata": {},
   "source": [
    "## Regression on all workers"
   ]
  },
  {
   "cell_type": "code",
   "execution_count": 558,
   "metadata": {
    "collapsed": false
   },
   "outputs": [
    {
     "name": "stdout",
     "output_type": "stream",
     "text": [
      "Degree and mean squared error for 8 million samples:\n",
      "1 2.98782385421\n",
      "2 0.246459309933\n",
      "3 10.517441474\n",
      "4 7.82530633526\n",
      "5 8.976812905\n",
      "\n",
      "Degree and mean squared error for 16 million samples:\n",
      "1 4.0625214342\n",
      "2 0.551091453553\n",
      "3 12.5063832259\n",
      "4 11.9884714806\n",
      "5 7.33405870713\n"
     ]
    },
    {
     "data": {
      "text/plain": [
       "[<matplotlib.lines.Line2D at 0x7fdb56c054a8>]"
      ]
     },
     "execution_count": 558,
     "metadata": {},
     "output_type": "execute_result"
    },
    {
     "data": {
      "image/png": "[encoded data removed]",
      "text/plain": [
       "<matplotlib.figure.Figure at 0x7fdb56c05ac8>"
      ]
     },
     "metadata": {},
     "output_type": "display_data"
    },
    {
     "data": {
      "image/png": "[encoded data removed]",
      "text/plain": [
       "<matplotlib.figure.Figure at 0x7fdb569e0518>"
      ]
     },
     "metadata": {},
     "output_type": "display_data"
    }
   ],
   "source": [
    "# Some useful column names\n",
    "features = ['input', 'workers']\n",
    "truth = 'seconds'\n",
    "model_obj = 'model_pickle'\n",
    "\n",
    "def log_model(df, degree):\n",
    "    method = linear_model.LinearRegression(fit_intercept=False)\n",
    "    model = Pipeline([('poly', PolynomialFeatures(degree=degree)), ('method', method)])\n",
    "    df_log = df.apply(np.log2)\n",
    "    features_log = df_log['workers'].reshape(-1, 1)\n",
    "    target_log = df_log['seconds']\n",
    "    return -cross_validation.cross_val_score(model, features_log, target_log, scoring='mean_squared_error').mean()\n",
    "\n",
    "df3 = df[~outliers & (df.input == 8192)].drop('input', axis=1)\n",
    "print('Degree and mean squared error for 8 million samples:')\n",
    "for degree in range(1, 6):\n",
    "    print(degree, log_model(df3, degree))\n",
    "    \n",
    "df30 = df[~outliers & (df.input == 16384)].drop('input', axis=1)\n",
    "print('\\nDegree and mean squared error for 16 million samples:')\n",
    "for degree in range(1, 6):\n",
    "    print(degree, log_model(df30, degree))\n",
    "    \n",
    "model3 = Pipeline([('poly', PolynomialFeatures(degree=degree)),\n",
    "                   ('method', linear_model.LinearRegression(fit_intercept=False))])\n",
    "features = np.log2(df3['workers']).reshape(-1, 1)\n",
    "model3.fit(features, np.log2(df3['seconds']))\n",
    "predictions = np.power(2, model3.predict(features))\n",
    "ax = df3.plot.scatter('workers', 'seconds')\n",
    "ax.plot(df3.workers, predictions)\n",
    "\n",
    "model30 = Pipeline([('poly', PolynomialFeatures(degree=degree)),\n",
    "                   ('method', linear_model.LinearRegression(fit_intercept=False))])\n",
    "features = np.log2(df30['workers']).reshape(-1, 1)\n",
    "model30.fit(features, np.log2(df30['seconds']))\n",
    "predictions = np.power(2, model30.predict(features))\n",
    "ax = df30.plot.scatter('workers', 'seconds')\n",
    "ax.plot(df30.workers, predictions)"
   ]
  },
  {
   "cell_type": "markdown",
   "metadata": {},
   "source": [
    "## Using two models"
   ]
  },
  {
   "cell_type": "code",
   "execution_count": 526,
   "metadata": {
    "collapsed": false
   },
   "outputs": [
    {
     "name": "stdout",
     "output_type": "stream",
     "text": [
      "Degree and relative error mean for 8 million samples:\n",
      "1 44.68961119267741\n",
      "2 43.77099980649537\n",
      "3 43.77099980649537\n",
      "4 43.77099980649537\n",
      "5 43.77099980649537\n",
      "\n",
      "Degree and relative error mean for 16 million samples:\n",
      "1 35.4107927636614\n",
      "2 43.9215850111658\n",
      "3 43.0630622073278\n",
      "4 42.80907365337671\n",
      "5 42.80907365337671\n"
     ]
    }
   ],
   "source": [
    "df3 = df[~outliers & (df.input == 8192) & df.workers.isin([2, 4, 8])].drop('input', axis=1)\n",
    "print('Degree and relative error mean for 8 million samples:')\n",
    "for degree in range(1, 6):\n",
    "    print(degree, log_model(df3, degree))\n",
    "    \n",
    "df30 = df[~outliers & (df.input == 16384)].drop('input', axis=1)\n",
    "print('\\nDegree and relative error mean for 16 million samples:')\n",
    "for degree in range(1, 6):\n",
    "    print(degree, log_model(df30, degree))"
   ]
  },
  {
   "cell_type": "markdown",
   "metadata": {},
   "source": [
    "### Detection"
   ]
  },
  {
   "cell_type": "code",
   "execution_count": 559,
   "metadata": {
    "collapsed": false
   },
   "outputs": [
    {
     "data": {
      "text/plain": [
       "{'ANY', 'PROCESS_LOCAL'}"
      ]
     },
     "execution_count": 559,
     "metadata": {},
     "output_type": "execute_result"
    }
   ],
   "source": [
    "set(t.locality for a in apps for s in a.stages for t in s.tasks)"
   ]
  },
  {
   "cell_type": "code",
   "execution_count": 560,
   "metadata": {
    "collapsed": true
   },
   "outputs": [],
   "source": [
    "# TODO Show ANY is slower"
   ]
  },
  {
   "cell_type": "code",
   "execution_count": 561,
   "metadata": {
    "collapsed": false
   },
   "outputs": [
    {
     "data": {
      "text/html": [
       "<div>\n",
       "<table border=\"1\" class=\"dataframe\">\n",
       "  <thead>\n",
       "    <tr style=\"text-align: right;\">\n",
       "      <th></th>\n",
       "      <th>input</th>\n",
       "      <th>workers</th>\n",
       "      <th>stage</th>\n",
       "      <th>non_local</th>\n",
       "    </tr>\n",
       "  </thead>\n",
       "  <tbody>\n",
       "    <tr>\n",
       "      <th>8320</th>\n",
       "      <td>8192</td>\n",
       "      <td>2</td>\n",
       "      <td>0</td>\n",
       "      <td>25</td>\n",
       "    </tr>\n",
       "    <tr>\n",
       "      <th>8321</th>\n",
       "      <td>8192</td>\n",
       "      <td>2</td>\n",
       "      <td>1</td>\n",
       "      <td>9</td>\n",
       "    </tr>\n",
       "    <tr>\n",
       "      <th>...</th>\n",
       "      <td>...</td>\n",
       "      <td>...</td>\n",
       "      <td>...</td>\n",
       "      <td>...</td>\n",
       "    </tr>\n",
       "    <tr>\n",
       "      <th>10400</th>\n",
       "      <td>16384</td>\n",
       "      <td>64</td>\n",
       "      <td>0</td>\n",
       "      <td>100</td>\n",
       "    </tr>\n",
       "    <tr>\n",
       "      <th>10660</th>\n",
       "      <td>16384</td>\n",
       "      <td>128</td>\n",
       "      <td>0</td>\n",
       "      <td>100</td>\n",
       "    </tr>\n",
       "  </tbody>\n",
       "</table>\n",
       "<p>306 rows × 4 columns</p>\n",
       "</div>"
      ],
      "text/plain": [
       "       input  workers  stage  non_local\n",
       "8320    8192        2      0         25\n",
       "8321    8192        2      1          9\n",
       "...      ...      ...    ...        ...\n",
       "10400  16384       64      0        100\n",
       "10660  16384      128      0        100\n",
       "\n",
       "[306 rows x 4 columns]"
      ]
     },
     "execution_count": 561,
     "metadata": {},
     "output_type": "execute_result"
    }
   ],
   "source": [
    "columns=['input', 'workers', 'stage', 'non_local']\n",
    "_df_data = {col: [] for col in columns}\n",
    "for app in apps:\n",
    "    input_size = b2s[get_input_size(app)]\n",
    "    for stage_id, stage in enumerate(app.stages):\n",
    "        _df_data['input'].append(input_size)\n",
    "        _df_data['workers'].append(app.slaves)\n",
    "        _df_data['stage'].append(stage_id)\n",
    "        _df_data['non_local'].append(sum(t.locality != 'PROCESS_LOCAL' for t in stage.tasks))\n",
    "\n",
    "# Non-local tasks data frame\n",
    "df_nl = pd.DataFrame(_df_data, columns=columns)\n",
    "del _df_data\n",
    "df_nl[(df_nl.non_local > 0) & (df_nl.input > 8000)].drop_duplicates()"
   ]
  },
  {
   "cell_type": "code",
   "execution_count": 649,
   "metadata": {
    "collapsed": false
   },
   "outputs": [
    {
     "name": "stdout",
     "output_type": "stream",
     "text": [
      "       input  workers  stage  non_local\n",
      "0         32        1      0          5\n",
      "26        32        1      0          5\n",
      "...      ...      ...    ...        ...\n",
      "19188   4096        8      0         10\n",
      "19214   4096        8      0         10\n",
      "\n",
      "[680 rows x 4 columns]\n",
      "[ 20.          20.          20.          20.          20.          63.49604208\n",
      "  63.49604208  63.49604208  63.49604208  63.49604208]\n",
      "0.28251978960585533\n"
     ]
    }
   ],
   "source": [
    "def log_model(degree, stage_id):\n",
    "    method = linear_model.LinearRegression(fit_intercept=False)\n",
    "    model = Pipeline([('poly', PolynomialFeatures(degree=degree)), ('method', method)])\n",
    "    df_prof = df_nl[(df_nl.input < 8192) & (df_nl.non_local > 0)]\n",
    "    print(df_prof)\n",
    "    df_st = df_prof[df_prof.stage == stage_id].drop('stage', axis=1).apply(np.log2)\n",
    "    features = df_st.drop('non_local', axis=1)\n",
    "    target = df_st['non_local']\n",
    "    model.fit(features, target)\n",
    "    return model\n",
    "\n",
    "stage_id = 0\n",
    "df_target = df_nl[(df_nl.input >= 8192) & (df_nl.stage == stage_id)].drop('stage', axis=1)\n",
    "truth = df_target['non_local']\n",
    "features = df_target.drop('non_local', axis=1).apply(np.log2)\n",
    "model = log_model(3, stage_id)\n",
    "prediction = np.power(2, model.predict(features))\n",
    "print(np.unique(prediction))\n",
    "print(np.abs((truth - prediction)/truth).mean())\n",
    "\n",
    "# Unique values of non-local tasks per size and stage\n",
    "#df_nlu = df_nl.groupby(columns).size()\n",
    "\n",
    "#print('Different numbers of slow tasks')\n",
    "#for n_samples in df_nlu.index.levels[0]:\n",
    "#    for workers in df_nlu.index.levels[1]:\n",
    "#        for stage in df_nlu.index.levels[2]:\n",
    "#            slow_tasks = df_nlu[n_samples][workers][stage]\n",
    "#            if len(slow_tasks) > 1:\n",
    "#                info = []\n",
    "#                for quantity, count in zip(slow_tasks.index, slow_tasks.values):\n",
    "#                    info.append('{:d} ({:d})'.format(quantity, count))\n",
    "#                print('{:02d}k samples, {:02d} workers, stage {:02d}: {}'.format(n_samples, workers, stage, ', '.join(info)))"
   ]
  },
  {
   "cell_type": "markdown",
   "metadata": {},
   "source": [
    "## Required Code"
   ]
  },
  {
   "cell_type": "code",
   "execution_count": 418,
   "metadata": {
    "collapsed": true
   },
   "outputs": [],
   "source": [
    "# Common for all experiments\n",
    "\n",
    "## Python settings\n",
    "from glob import glob\n",
    "import sys\n",
    "if not 'spark_log_stats' in sys.path:\n",
    "    sys.path.append('spark_log_stats')\n",
    "import pandas as pd\n",
    "import numpy as np\n",
    "## Show graph in this notebook instead of opening a window\n",
    "%matplotlib inline\n",
    "import matplotlib\n",
    "import matplotlib.pyplot as plt\n",
    "from sparklogstats import LogParser\n",
    "\n",
    "## Make graphs more readable\n",
    "matplotlib.style.use('ggplot')\n",
    "matplotlib.rcParams.update({'font.size': 16,\n",
    "                            'font.family': 'serif',\n",
    "                            'lines.linewidth': 2})\n",
    "pd.options.display.max_rows = 4\n",
    "pd.options.display.precision = 2\n",
    "\n",
    "\n",
    "def parse_apps(folder):\n",
    "    parser = LogParser()\n",
    "    apps = []\n",
    "    for log in sorted(glob('data/hibench/{}/*'.format(folder))):\n",
    "        app = parser.parse_file(log)\n",
    "        app.slaves = len(app.slaves)\n",
    "        apps.append(app)\n",
    "    return apps\n",
    "\n",
    "# Conversion from bytes read from input files to number of samples (thousands)\n",
    "# The number of samples was manually entered for input generation\n",
    "# Return a dict conversor where key is bytes read and value is the number of samples in thousands\n",
    "def get_bytes2samples_conv(apps):\n",
    "    def _get_bytes_read(app):\n",
    "        tasks = app.stages[0].tasks\n",
    "        return sum(t.metrics.bytes_read for t in tasks if not t.failed)\n",
    "\n",
    "    b2s = {}\n",
    "    k_samples = 32\n",
    "    for size in sorted(set(_get_bytes_read(a) for a in apps)):\n",
    "        b2s[size] = k_samples\n",
    "        k_samples *= 2\n",
    "\n",
    "    return b2s\n",
    "\n",
    "def get_input_size(app):\n",
    "    tasks = app.stages[0].tasks\n",
    "    return sum(t.metrics.bytes_read for t in tasks if not t.failed)"
   ]
  },
  {
   "cell_type": "code",
   "execution_count": 423,
   "metadata": {
    "collapsed": true
   },
   "outputs": [],
   "source": [
    "# Outliers\n",
    "def calc_outliers(df, col, group_by, m):\n",
    "    group = df.groupby(group_by)\n",
    "    lower = group[col].transform(lambda x: x.quantile(q=.25) - m*(x.quantile(q=.75)-x.quantile(q=.25)))\n",
    "    upper = group[col].transform(lambda x: x.quantile(q=.75) + m*(x.quantile(q=.75)-x.quantile(q=.25)))\n",
    "    return (df[col] > upper) | (df[col] < lower)"
   ]
  },
  {
   "cell_type": "code",
   "execution_count": 511,
   "metadata": {
    "collapsed": true
   },
   "outputs": [],
   "source": [
    "# Regression\n",
    "\n",
    "# For each profiling configuration subset (worker numbers, input sizes)\n",
    "## for each linear regression method\n",
    "### for each degree\n",
    "#### build a model\n",
    "\n",
    "import pickle\n",
    "from itertools import chain, combinations\n",
    "from sklearn import linear_model, metrics, cross_validation\n",
    "from sklearn.pipeline import Pipeline\n",
    "from sklearn.preprocessing import PolynomialFeatures\n",
    "import pyprind\n",
    "\n",
    "class Regressor:\n",
    "    def __init__(self, df, truth_col, features, max_degree, apply_log):\n",
    "        self._df = df.apply(np.log2) if apply_log else df\n",
    "        self._truth = truth_col\n",
    "        self._features = features\n",
    "        self._degrees = list(range(1, max_degree + 1))\n",
    "        self._apply_log = apply_log\n",
    "        self.methods = [\n",
    "           linear_model.LinearRegression(fit_intercept=False),\n",
    "#           linear_model.Lasso(),\n",
    "#           linear_model.ElasticNet(),\n",
    "#           linear_model.RidgeCV()\n",
    "        ]\n",
    "\n",
    "    # exclude void subset\n",
    "    @staticmethod\n",
    "    def powerset(iterable):\n",
    "        s = list(iterable)\n",
    "        return chain.from_iterable(combinations(s, r) for r in range(1, len(s)+1))\n",
    "    \n",
    "    def _init_progress_bar(self):\n",
    "        n = 0\n",
    "        df = self._df\n",
    "        uniq_inputs = df.input.unique()\n",
    "        for inputs in Regressor.powerset(uniq_inputs):\n",
    "            uniq_workers = df[df.input.isin(inputs)].workers.unique()\n",
    "            n += sum(1 for _ in Regressor.powerset(uniq_workers))\n",
    "        return pyprind.ProgBar(n, title='Regression', monitor=True)\n",
    "        \n",
    "\n",
    "    def make_regressions(self):\n",
    "        bar = self._init_progress_bar()\n",
    "        regressions = []\n",
    "        df = self._df\n",
    "        uniq_inputs = df.input.unique()\n",
    "        for inputs in Regressor.powerset(uniq_inputs):\n",
    "            uniq_workers = df[df.input.isin(inputs)].workers.unique()\n",
    "            for workers in Regressor.powerset(uniq_workers):\n",
    "                df_reg = df[df.workers.isin(workers) & df.input.isin(inputs)]\n",
    "                for method in self.methods:\n",
    "                    for degree in self._degrees:\n",
    "                        reg = self._add_regression(df_reg, degree, method, workers, inputs)\n",
    "                        regressions.append(reg)\n",
    "                bar.update()\n",
    "        print(bar)\n",
    "        return pd.DataFrame(regressions)\n",
    "    \n",
    "        \n",
    "    def _add_regression(self, df, degree, method, workers, inputs):\n",
    "        model = self._build_model(df, degree, method)\n",
    "        return self._get_regression_info(model, degree, workers, inputs)\n",
    "    \n",
    "    def _build_model(self, df, degree, method):\n",
    "        model = Pipeline([('poly', PolynomialFeatures(degree=degree)), ('method', method)])\n",
    "        model.fit(df[self._features], df[self._truth])\n",
    "        return model\n",
    "    \n",
    "    def _from_log(self, value):\n",
    "        return np.power(2, value) if self._apply_log else value\n",
    "        \n",
    "    def _get_regression_info(self, model, degree, workers, inputs):\n",
    "        inputs = tuple(np.round(inputs).astype(int))\n",
    "        return {\n",
    "            'method': str(model.named_steps['method'].__class__).split('.')[-1].split(\"'\")[0],\n",
    "            'degree': degree,\n",
    "            'workers': self._from_log(workers),\n",
    "            'inputs': self._from_log(inputs),\n",
    "            'model_pickle': pickle.dumps(model)\n",
    "        }\n",
    "\n",
    "    \n",
    "class RelativeError:\n",
    "    def __init__(self, features, models, truth, is_log):\n",
    "        self._features = features\n",
    "        self._models = models\n",
    "        self._truth = truth\n",
    "        self._is_log = is_log\n",
    "        self._bar = pyprind.ProgBar(models.size, title='Relative error', monitor=True)\n",
    "    \n",
    "    def get_errors(self):\n",
    "        errors = [self._calc_from_model(m) for m in self._models]\n",
    "        print(self._bar)\n",
    "        return errors\n",
    "            \n",
    "    def _calc_from_model(self, model_pickle):\n",
    "        model = pickle.loads(model_pickle)\n",
    "        predictions = model.predict(self._features)\n",
    "        if self._is_log:\n",
    "            predictions = np.power(2, predictions)\n",
    "        return self._calc(self._truth, predictions)\n",
    "    \n",
    "    def _calc(self, y_true, y_prediction):\n",
    "        self._bar.update()\n",
    "        return (np.abs(y_true - y_prediction)/y_true).mean()"
   ]
  }
 ],
 "metadata": {
  "kernelspec": {
   "display_name": "Python 3",
   "language": "python",
   "name": "python3"
  },
  "language_info": {
   "codemirror_mode": {
    "name": "ipython",
    "version": 3
   },
   "file_extension": ".py",
   "mimetype": "text/x-python",
   "name": "python",
   "nbconvert_exporter": "python",
   "pygments_lexer": "ipython3",
   "version": "3.5.2"
  }
 },
 "nbformat": 4,
 "nbformat_minor": 0
}
