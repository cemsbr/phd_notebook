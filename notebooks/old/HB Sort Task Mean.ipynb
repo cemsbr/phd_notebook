{
 "cells": [
  {
   "cell_type": "code",
   "execution_count": 135,
   "metadata": {
    "collapsed": false
   },
   "outputs": [],
   "source": [
    "try:\n",
    "    initialized\n",
    "except NameError:\n",
    "    ## Matplotlib configuration\n",
    "    %matplotlib inline\n",
    "    initialized = True\n",
    "\n",
    "from sklearn.linear_model import LinearRegression, RidgeCV\n",
    "from lib import Model, Humanizer, Plotter, TwoMeanModel, Parser\n",
    "from lib.hbsort import DataFrameBuilder, ExperimentInfo\n",
    "from mynotebook import *"
   ]
  },
  {
   "cell_type": "code",
   "execution_count": 10,
   "metadata": {
    "collapsed": false
   },
   "outputs": [],
   "source": [
    "# Given a stage, z-test on first and nonfirst means to justify node adjustment\n",
    "exp_info = ExperimentInfo(threads=2, block_size=128 * 1024**2)\n",
    "df_builder = DataFrameBuilder(threads=exp_info.threads, stage=0)\n",
    "prof_first_out, prof_nonfirst_out = df_builder.get_profiling_tasks()\n",
    "tgt0_first_out, tgt0_nonfirst_out = df_builder.get_target_tasks(0)\n",
    "tgt1_first_out, tgt1_nonfirst_out = df_builder.get_target_tasks(1)"
   ]
  },
  {
   "cell_type": "code",
   "execution_count": 12,
   "metadata": {
    "collapsed": false
   },
   "outputs": [],
   "source": [
    "def remove_outliers_concat(*args, concat=True):\n",
    "    frames = [remove_outliers(df) for df in args]\n",
    "    res = frames + [pd.concat(frames)]\n",
    "    return tuple(res)\n",
    "\n",
    "prof_first, prof_nonfirst, prof = remove_outliers_concat(prof_first_out, prof_nonfirst_out)\n",
    "tgt0_first, tgt0_nonfirst, tgt0 = remove_outliers_concat(tgt0_first_out, tgt0_nonfirst_out)\n",
    "tgt1_first, tgt1_nonfirst, tgt1 = remove_outliers_concat(tgt1_first_out, tgt1_nonfirst_out)"
   ]
  },
  {
   "cell_type": "code",
   "execution_count": 5,
   "metadata": {
    "collapsed": false
   },
   "outputs": [],
   "source": [
    "# Distributions of first and non-first tasks _are_ different.\n",
    "import numpy as np\n",
    "\n",
    "\n",
    "def z_test(dfa, dfb):\n",
    "    def mean_std(df, n):\n",
    "        n = str(n)\n",
    "        group = df.groupby(['input', 'workers'])[['ms']]\n",
    "        res = group.mean()\n",
    "        res.columns = ['mean_' + n]  # renaming 'ms' column\n",
    "        res['std_' + n] = group.std()\n",
    "        res['samples_' + n] = group.count()\n",
    "        res['mean_std_' + n] = res['std_' + n] / res['samples_' + n]\n",
    "        return res\n",
    "    res = pd.concat([mean_std(dfa, 1), mean_std(dfb, 2)], axis=1)\n",
    "    res['z'] = (res.mean_1 - res.mean_2) / np.sqrt(res.mean_std_1 ** 2 + res.mean_std_2 ** 2)\n",
    "    res['different?'] = res.z >= 2.33\n",
    "    res.loc[np.isnan(res.z),'different?'] = np.nan\n",
    "    return res\n",
    "\n",
    "\n",
    "#z_test(prof_first, prof_nonfirst)"
   ]
  },
  {
   "cell_type": "code",
   "execution_count": 24,
   "metadata": {
    "collapsed": false
   },
   "outputs": [
    {
     "data": {
      "text/plain": [
       "[0.3539260809121394,\n",
       " ((1, 3284983900), 0.29688379138338006),\n",
       " ((2, 3284983900), 0.16136310444755678),\n",
       " ((4, 3284983900), 0.2967130755236217),\n",
       " ((8, 3284983900), 0.38402169525897684),\n",
       " ((12, 3284983900), 0.2203135052535657),\n",
       " ((16, 3284983900), 0.25619928372910666),\n",
       " ((16, 32849603895), 0.39214556296474273),\n",
       " ((32, 32849603895), 0.5173165271462294),\n",
       " ((64, 32849603895), 0.6850547455386057),\n",
       " ((123, 32849603895), 0.12222501150098827),\n",
       " ((128, 32849603895), 0.12367828403511225)]"
      ]
     },
     "execution_count": 24,
     "metadata": {},
     "output_type": "execute_result"
    }
   ],
   "source": [
    "model = Model(LinearRegression(), use_log=True)\n",
    "_prof = pd.concat([tgt0, tgt1])\n",
    "_tgt = _prof\n",
    "model.fit(_prof)\n",
    "model.score(_prof)"
   ]
  },
  {
   "cell_type": "code",
   "execution_count": 167,
   "metadata": {
    "collapsed": false
   },
   "outputs": [
    {
     "data": {
      "text/html": [
       "<div>\n",
       "<table border=\"1\" class=\"dataframe\">\n",
       "  <thead>\n",
       "    <tr style=\"text-align: right;\">\n",
       "      <th></th>\n",
       "      <th>input</th>\n",
       "      <th>workers</th>\n",
       "      <th>ms</th>\n",
       "    </tr>\n",
       "  </thead>\n",
       "  <tbody>\n",
       "    <tr>\n",
       "      <th>934</th>\n",
       "      <td>5.51e+08</td>\n",
       "      <td>2</td>\n",
       "      <td>8232</td>\n",
       "    </tr>\n",
       "  </tbody>\n",
       "</table>\n",
       "</div>"
      ],
      "text/plain": [
       "        input  workers    ms\n",
       "934  5.51e+08        2  8232"
      ]
     },
     "metadata": {},
     "output_type": "display_data"
    },
    {
     "data": {
      "text/plain": [
       "11.099988024736714"
      ]
     },
     "metadata": {},
     "output_type": "display_data"
    },
    {
     "data": {
      "text/plain": [
       "array([ 0.06275328,  0.09077249])"
      ]
     },
     "metadata": {},
     "output_type": "display_data"
    },
    {
     "data": {
      "text/html": [
       "<div>\n",
       "<table border=\"1\" class=\"dataframe\">\n",
       "  <thead>\n",
       "    <tr style=\"text-align: right;\">\n",
       "      <th></th>\n",
       "      <th>input</th>\n",
       "      <th>workers</th>\n",
       "      <th>ms</th>\n",
       "    </tr>\n",
       "  </thead>\n",
       "  <tbody>\n",
       "    <tr>\n",
       "      <th>951</th>\n",
       "      <td>1.10e+09</td>\n",
       "      <td>2</td>\n",
       "      <td>4269</td>\n",
       "    </tr>\n",
       "  </tbody>\n",
       "</table>\n",
       "</div>"
      ],
      "text/plain": [
       "        input  workers    ms\n",
       "951  1.10e+09        2  4269"
      ]
     },
     "metadata": {},
     "output_type": "display_data"
    },
    {
     "data": {
      "text/plain": [
       "-14.576728436376115"
      ]
     },
     "metadata": {},
     "output_type": "display_data"
    },
    {
     "data": {
      "text/plain": [
       "array([ 0.88109794,  0.40648797])"
      ]
     },
     "metadata": {},
     "output_type": "display_data"
    },
    {
     "data": {
      "image/png": "[encoded data removed]",
      "text/plain": [
       "<matplotlib.figure.Figure at 0x7fc659bd04a8>"
      ]
     },
     "metadata": {},
     "output_type": "display_data"
    },
    {
     "data": {
      "image/png": "[encoded data removed]",
      "text/plain": [
       "<matplotlib.figure.Figure at 0x7fc656a8ae10>"
      ]
     },
     "metadata": {},
     "output_type": "display_data"
    }
   ],
   "source": [
    "_prof_first = prof_first.copy()\n",
    "#_prof_first = pd.concat([tgt0_first, tgt1_first])\n",
    "_prof_nonfirst = prof_nonfirst .copy()\n",
    "#_prof_nonfirst = pd.concat([tgt0_nonfirst, tgt1_nonfirst])\n",
    "\n",
    "_prof_first.input /= _prof_first.workers\n",
    "_prof_nonfirst.input /= _prof_nonfirst.workers\n",
    "\n",
    "model_first = Model(LinearRegression(), use_log=True)\n",
    "model_first.fit(_prof_first)\n",
    "model_nonfirst = Model(LinearRegression(), use_log=True)\n",
    "model_nonfirst.fit(_prof_nonfirst)\n",
    "\n",
    "display(_prof_first.sample())\n",
    "linreg = model_first.get_linreg()\n",
    "display(linreg.intercept_, linreg.coef_)\n",
    "display(_prof_nonfirst.sample())\n",
    "linreg = model_nonfirst.get_linreg()\n",
    "display(linreg.intercept_, linreg.coef_)\n",
    "\n",
    "model = TwoMeanModel(model_first, model_nonfirst, exp_info.threads, block_size=exp_info.block_size)\n",
    "#display(model.score(pd.concat([tgt0, tgt1])))\n",
    "\n",
    "plotter = Plotter()\n",
    "plotter.plot_model(model, tgt0)\n",
    "plotter.plot_model(model, tgt1)"
   ]
  },
  {
   "cell_type": "code",
   "execution_count": null,
   "metadata": {
    "collapsed": true
   },
   "outputs": [],
   "source": [
    "model_first = Model(LinearRegression(), use_log=True)\n",
    "model_first.fit(pd.concat([tgt0_first, tgt1_first]))\n",
    "model_nonfirst = Model(LinearRegression(), use_log=True)\n",
    "model_nonfirst.fit(pd.concat([tgt0_nonfirst, tgt1_nonfirst]))\n",
    "\n",
    "model = TwoMeanModel(model_first, model_nonfirst, exp_info.threads, block_size=exp_info.block_size)\n",
    "plotter = Plotter()\n",
    "plotter.plot_model(model, tgt0)\n",
    "plotter.plot_model(model, tgt1)"
   ]
  },
  {
   "cell_type": "code",
   "execution_count": 132,
   "metadata": {
    "collapsed": false
   },
   "outputs": [
    {
     "data": {
      "text/plain": [
       "230"
      ]
     },
     "execution_count": 132,
     "metadata": {},
     "output_type": "execute_result"
    }
   ],
   "source": [
    "parser = Parser()\n",
    "apps = parser.parse_folder('../../../../../..//shared/cadu/noSync/repos/phd_notebook/data/hibench/sort')\n",
    "recs = []\n",
    "for app in apps:\n",
    "    stage = app.stages[0]\n",
    "    recs.append([app.stages[0].bytes_read, app.slaves, stage.total_tasks])\n",
    "df = pd.DataFrame.from_records(recs, columns=['input', 'workers', 'tasks'])\n",
    "len(df)"
   ]
  },
  {
   "cell_type": "code",
   "execution_count": null,
   "metadata": {
    "collapsed": true
   },
   "outputs": [],
   "source": []
  },
  {
   "cell_type": "code",
   "execution_count": 134,
   "metadata": {
    "collapsed": false
   },
   "outputs": [
    {
     "data": {
      "text/plain": [
       "0.60898290096761798"
      ]
     },
     "metadata": {},
     "output_type": "display_data"
    },
    {
     "data": {
      "text/plain": [
       "array([  7.43968396e-09])"
      ]
     },
     "metadata": {},
     "output_type": "display_data"
    },
    {
     "data": {
      "text/plain": [
       "134414311.93525973"
      ]
     },
     "metadata": {},
     "output_type": "display_data"
    },
    {
     "data": {
      "text/plain": [
       "[0.040505984037824606,\n",
       " ((1, 275565819), 0.32955275174139187),\n",
       " ((2, 275565819), 0.32955275174139187),\n",
       " ((1, 551127932), 0.05815989309415848),\n",
       " ((2, 551127932), 0.05815989309415848),\n",
       " ((4, 551127932), 0.05815989309415848),\n",
       " ((1, 1102242290), 0.02118697979769182),\n",
       " ((2, 1102242290), 0.02118697979769182),\n",
       " ((4, 1102242290), 0.02118697979769182),\n",
       " ((8, 1102242290), 0.02118697979769182),\n",
       " ((2, 2204500034), 0.0005744962088111215),\n",
       " ((4, 2204500034), 0.0005744962088111215),\n",
       " ((8, 2204500034), 0.0005744962088111215),\n",
       " ((1, 3284983900), 0.0019289967382430007),\n",
       " ((2, 3284983900), 0.0019289967382430007),\n",
       " ((4, 3284983900), 0.0019289967382430007),\n",
       " ((8, 3284983900), 0.0019289967382430007),\n",
       " ((12, 3284983900), 0.0019289967382430007),\n",
       " ((16, 3284983900), 0.0019289967382430007),\n",
       " ((16, 32849603895), 1.4123716096269256e-06),\n",
       " ((32, 32849603895), 1.4123716096269256e-06),\n",
       " ((64, 32849603895), 1.4123716096269256e-06),\n",
       " ((123, 32849603895), 1.4123716096269256e-06),\n",
       " ((128, 32849603895), 1.4123716096269256e-06)]"
      ]
     },
     "metadata": {},
     "output_type": "display_data"
    },
    {
     "data": {
      "text/html": [
       "<div>\n",
       "<table border=\"1\" class=\"dataframe\">\n",
       "  <thead>\n",
       "    <tr style=\"text-align: right;\">\n",
       "      <th></th>\n",
       "      <th>input</th>\n",
       "      <th>workers</th>\n",
       "      <th>tasks</th>\n",
       "      <th>input_per_task</th>\n",
       "      <th>prediction</th>\n",
       "      <th>prediction2</th>\n",
       "    </tr>\n",
       "  </thead>\n",
       "  <tbody>\n",
       "    <tr>\n",
       "      <th>0</th>\n",
       "      <td>275565819</td>\n",
       "      <td>1</td>\n",
       "      <td>2</td>\n",
       "      <td>1.38e+08</td>\n",
       "      <td>3</td>\n",
       "      <td>3</td>\n",
       "    </tr>\n",
       "    <tr>\n",
       "      <th>1</th>\n",
       "      <td>275565819</td>\n",
       "      <td>2</td>\n",
       "      <td>2</td>\n",
       "      <td>1.38e+08</td>\n",
       "      <td>3</td>\n",
       "      <td>3</td>\n",
       "    </tr>\n",
       "    <tr>\n",
       "      <th>2</th>\n",
       "      <td>551127932</td>\n",
       "      <td>1</td>\n",
       "      <td>5</td>\n",
       "      <td>1.10e+08</td>\n",
       "      <td>5</td>\n",
       "      <td>5</td>\n",
       "    </tr>\n",
       "    <tr>\n",
       "      <th>3</th>\n",
       "      <td>551127932</td>\n",
       "      <td>2</td>\n",
       "      <td>5</td>\n",
       "      <td>1.10e+08</td>\n",
       "      <td>5</td>\n",
       "      <td>5</td>\n",
       "    </tr>\n",
       "    <tr>\n",
       "      <th>4</th>\n",
       "      <td>551127932</td>\n",
       "      <td>4</td>\n",
       "      <td>5</td>\n",
       "      <td>1.10e+08</td>\n",
       "      <td>5</td>\n",
       "      <td>5</td>\n",
       "    </tr>\n",
       "    <tr>\n",
       "      <th>5</th>\n",
       "      <td>1102242290</td>\n",
       "      <td>1</td>\n",
       "      <td>9</td>\n",
       "      <td>1.22e+08</td>\n",
       "      <td>9</td>\n",
       "      <td>9</td>\n",
       "    </tr>\n",
       "    <tr>\n",
       "      <th>6</th>\n",
       "      <td>1102242290</td>\n",
       "      <td>2</td>\n",
       "      <td>9</td>\n",
       "      <td>1.22e+08</td>\n",
       "      <td>9</td>\n",
       "      <td>9</td>\n",
       "    </tr>\n",
       "    <tr>\n",
       "      <th>7</th>\n",
       "      <td>1102242290</td>\n",
       "      <td>4</td>\n",
       "      <td>9</td>\n",
       "      <td>1.22e+08</td>\n",
       "      <td>9</td>\n",
       "      <td>9</td>\n",
       "    </tr>\n",
       "    <tr>\n",
       "      <th>8</th>\n",
       "      <td>1102242290</td>\n",
       "      <td>8</td>\n",
       "      <td>9</td>\n",
       "      <td>1.22e+08</td>\n",
       "      <td>9</td>\n",
       "      <td>9</td>\n",
       "    </tr>\n",
       "    <tr>\n",
       "      <th>9</th>\n",
       "      <td>2204500034</td>\n",
       "      <td>2</td>\n",
       "      <td>17</td>\n",
       "      <td>1.30e+08</td>\n",
       "      <td>17</td>\n",
       "      <td>17</td>\n",
       "    </tr>\n",
       "    <tr>\n",
       "      <th>10</th>\n",
       "      <td>2204500034</td>\n",
       "      <td>4</td>\n",
       "      <td>17</td>\n",
       "      <td>1.30e+08</td>\n",
       "      <td>17</td>\n",
       "      <td>17</td>\n",
       "    </tr>\n",
       "    <tr>\n",
       "      <th>11</th>\n",
       "      <td>2204500034</td>\n",
       "      <td>8</td>\n",
       "      <td>17</td>\n",
       "      <td>1.30e+08</td>\n",
       "      <td>17</td>\n",
       "      <td>17</td>\n",
       "    </tr>\n",
       "    <tr>\n",
       "      <th>12</th>\n",
       "      <td>3284983900</td>\n",
       "      <td>1</td>\n",
       "      <td>25</td>\n",
       "      <td>1.31e+08</td>\n",
       "      <td>25</td>\n",
       "      <td>25</td>\n",
       "    </tr>\n",
       "    <tr>\n",
       "      <th>13</th>\n",
       "      <td>3284983900</td>\n",
       "      <td>2</td>\n",
       "      <td>25</td>\n",
       "      <td>1.31e+08</td>\n",
       "      <td>25</td>\n",
       "      <td>25</td>\n",
       "    </tr>\n",
       "    <tr>\n",
       "      <th>14</th>\n",
       "      <td>3284983900</td>\n",
       "      <td>4</td>\n",
       "      <td>25</td>\n",
       "      <td>1.31e+08</td>\n",
       "      <td>25</td>\n",
       "      <td>25</td>\n",
       "    </tr>\n",
       "    <tr>\n",
       "      <th>15</th>\n",
       "      <td>3284983900</td>\n",
       "      <td>8</td>\n",
       "      <td>25</td>\n",
       "      <td>1.31e+08</td>\n",
       "      <td>25</td>\n",
       "      <td>25</td>\n",
       "    </tr>\n",
       "    <tr>\n",
       "      <th>16</th>\n",
       "      <td>3284983900</td>\n",
       "      <td>12</td>\n",
       "      <td>25</td>\n",
       "      <td>1.31e+08</td>\n",
       "      <td>25</td>\n",
       "      <td>25</td>\n",
       "    </tr>\n",
       "    <tr>\n",
       "      <th>17</th>\n",
       "      <td>3284983900</td>\n",
       "      <td>16</td>\n",
       "      <td>25</td>\n",
       "      <td>1.31e+08</td>\n",
       "      <td>25</td>\n",
       "      <td>25</td>\n",
       "    </tr>\n",
       "    <tr>\n",
       "      <th>18</th>\n",
       "      <td>32849603895</td>\n",
       "      <td>16</td>\n",
       "      <td>245</td>\n",
       "      <td>1.34e+08</td>\n",
       "      <td>245</td>\n",
       "      <td>245</td>\n",
       "    </tr>\n",
       "    <tr>\n",
       "      <th>19</th>\n",
       "      <td>32849603895</td>\n",
       "      <td>32</td>\n",
       "      <td>245</td>\n",
       "      <td>1.34e+08</td>\n",
       "      <td>245</td>\n",
       "      <td>245</td>\n",
       "    </tr>\n",
       "    <tr>\n",
       "      <th>20</th>\n",
       "      <td>32849603895</td>\n",
       "      <td>64</td>\n",
       "      <td>245</td>\n",
       "      <td>1.34e+08</td>\n",
       "      <td>245</td>\n",
       "      <td>245</td>\n",
       "    </tr>\n",
       "    <tr>\n",
       "      <th>21</th>\n",
       "      <td>32849603895</td>\n",
       "      <td>123</td>\n",
       "      <td>245</td>\n",
       "      <td>1.34e+08</td>\n",
       "      <td>245</td>\n",
       "      <td>245</td>\n",
       "    </tr>\n",
       "    <tr>\n",
       "      <th>22</th>\n",
       "      <td>32849603895</td>\n",
       "      <td>128</td>\n",
       "      <td>245</td>\n",
       "      <td>1.34e+08</td>\n",
       "      <td>245</td>\n",
       "      <td>245</td>\n",
       "    </tr>\n",
       "  </tbody>\n",
       "</table>\n",
       "</div>"
      ],
      "text/plain": [
       "          input  workers  tasks  input_per_task  prediction  prediction2\n",
       "0     275565819        1      2        1.38e+08           3            3\n",
       "1     275565819        2      2        1.38e+08           3            3\n",
       "2     551127932        1      5        1.10e+08           5            5\n",
       "3     551127932        2      5        1.10e+08           5            5\n",
       "4     551127932        4      5        1.10e+08           5            5\n",
       "5    1102242290        1      9        1.22e+08           9            9\n",
       "6    1102242290        2      9        1.22e+08           9            9\n",
       "7    1102242290        4      9        1.22e+08           9            9\n",
       "8    1102242290        8      9        1.22e+08           9            9\n",
       "9    2204500034        2     17        1.30e+08          17           17\n",
       "10   2204500034        4     17        1.30e+08          17           17\n",
       "11   2204500034        8     17        1.30e+08          17           17\n",
       "12   3284983900        1     25        1.31e+08          25           25\n",
       "13   3284983900        2     25        1.31e+08          25           25\n",
       "14   3284983900        4     25        1.31e+08          25           25\n",
       "15   3284983900        8     25        1.31e+08          25           25\n",
       "16   3284983900       12     25        1.31e+08          25           25\n",
       "17   3284983900       16     25        1.31e+08          25           25\n",
       "18  32849603895       16    245        1.34e+08         245          245\n",
       "19  32849603895       32    245        1.34e+08         245          245\n",
       "20  32849603895       64    245        1.34e+08         245          245\n",
       "21  32849603895      123    245        1.34e+08         245          245\n",
       "22  32849603895      128    245        1.34e+08         245          245"
      ]
     },
     "execution_count": 134,
     "metadata": {},
     "output_type": "execute_result"
    }
   ],
   "source": [
    "group = df.groupby(['input', 'workers'])\n",
    "df2 = group.tasks.apply(lambda x: x.unique()[0]).reset_index()\n",
    "df2['input_per_task'] = df2.input / df2.tasks\n",
    "block_size = df2.input_per_task.mean()\n",
    "\n",
    "\n",
    "model = Model(LinearRegression(fit_intercept=True), features=['input'], ycol='tasks', use_log=False)\n",
    "model.fit(df2)\n",
    "linear = model.get_linreg()\n",
    "display(linear.intercept_, linear.coef_)\n",
    "display(1/linear.coef_[0])\n",
    "display(model.score(df2))\n",
    "df2['prediction'] = np.round(model.predict(df2)).astype('int')\n",
    "df2['prediction2'] = np.ceil(df2.input / (128 * 1024**2 * 1.001)).astype('int')\n",
    "df2"
   ]
  }
 ],
 "metadata": {
  "kernelspec": {
   "display_name": "Python 3",
   "language": "python",
   "name": "python3"
  },
  "language_info": {
   "codemirror_mode": {
    "name": "ipython",
    "version": 3
   },
   "file_extension": ".py",
   "mimetype": "text/x-python",
   "name": "python",
   "nbconvert_exporter": "python",
   "pygments_lexer": "ipython3",
   "version": "3.5.1"
  }
 },
 "nbformat": 4,
 "nbformat_minor": 0
}
