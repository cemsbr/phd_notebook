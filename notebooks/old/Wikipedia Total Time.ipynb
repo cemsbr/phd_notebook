{
 "cells": [
  {
   "cell_type": "code",
   "execution_count": 1,
   "metadata": {
    "collapsed": false
   },
   "outputs": [],
   "source": [
    "try:\n",
    "    initialized\n",
    "except NameError:\n",
    "    ## Matplotlib configuration\n",
    "    %matplotlib inline\n",
    "    initialized = True\n",
    "\n",
    "from sklearn.linear_model import LinearRegression, RidgeCV\n",
    "from lib import Model, Humanizer, Plotter, ExperimentInfo\n",
    "from lib.wikipedia import DataFrameBuilder\n",
    "from mynotebook import *"
   ]
  },
  {
   "cell_type": "code",
   "execution_count": 79,
   "metadata": {
    "collapsed": false
   },
   "outputs": [],
   "source": [
    "exp_info = ExperimentInfo(ExperimentInfo.SS2, threads=2, block_size=128 * 1024**2)\n",
    "df_builder = DataFrameBuilder(threads=exp_info.threads)\n",
    "\n",
    "prof_ss2_out = df_builder.get_strong_scaling_df(2)\n",
    "prof_ss1_out = df_builder.get_strong_scaling_df(1)\n",
    "prof_1vm_out = df_builder.get_1VM_df()\n",
    "target_out = df_builder.get_target_df()\n",
    "\n",
    "target = remove_outliers(target_out)\n",
    "prof_ss2 = remove_outliers(prof_ss2_out)\n",
    "prof_1vm = remove_outliers(prof_1vm_out)\n",
    "prof_ss1 = remove_outliers(prof_ss1_out)"
   ]
  },
  {
   "cell_type": "code",
   "execution_count": 376,
   "metadata": {
    "collapsed": false
   },
   "outputs": [],
   "source": [
    "import numpy as np\n",
    "\n",
    "\n",
    "def get_iterations_by_blocks(inputs, threads, block_size):\n",
    "    tasks = np.ceil(inputs / block_size)\n",
    "    first = (tasks > 0).astype('int')\n",
    "    nonfirst = np.ceil((tasks - threads) / threads).astype('int')\n",
    "    nonfirst[nonfirst < 0] = 0\n",
    "    return first, nonfirst\n",
    "\n",
    "def get_iterations_by_n_tasks(threads, tasks):\n",
    "    first = [1] * len(threads)\n",
    "    nonfirst = np.ceil((tasks - threads) / threads).astype('int')\n",
    "    nonfirst[nonfirst < 0] = 0\n",
    "    return first, nonfirst\n",
    "\n",
    "def get_extra_df(df, exp_info):\n",
    "    extra = pd.DataFrame()\n",
    "    extra['workers'] = df.workers               # best for target, prof **\n",
    "    #extra['log_workers'] = np.log2(df.workers)  # best for target, prof **\n",
    "    #extra['input'] = df.input                   # best for target\n",
    "    #extra['log_input'] = np.log2(df.input)      # second best for target, prof **\n",
    "    #extra['input_per_worker'] = df.input / df.workers\n",
    "    #extra['log_input_per_worker'] = np.log2(df.input / df.workers)  # best for prof\n",
    "    threads = df.workers * exp_info.threads\n",
    "    _, extra['iters_stg0_nf'] = get_iterations_by_blocks(df.input,\n",
    "                                                                             threads,\n",
    "                                                                             exp_info.block_size)\n",
    "    _, extra['iters_stg1_nf'] = get_iterations_by_n_tasks(threads, 200)\n",
    "    \n",
    "    extra['ms'] = df.ms\n",
    "    return extra"
   ]
  },
  {
   "cell_type": "code",
   "execution_count": 386,
   "metadata": {
    "collapsed": false
   },
   "outputs": [],
   "source": [
    "# With logs, results are better\n",
    "\n",
    "prof = pd.concat([prof_1vm, prof_ss1[prof_ss1.workers != 2], prof_ss2[prof_ss2.workers == 2]])  # total: 0.0901, max: 0.1848\n",
    "#prof = pd.concat([prof_1vm, prof_ss1[prof_ss1.workers == 1], prof_ss2[prof_ss2.workers == 2]])  # total: 0.1512, max: 0.2987\n",
    "#prof = pd.concat([prof_1vm, prof_ss1, prof_ss2[prof_ss2.workers == 2]])  # total: 0.1041, max: 0.2351\n",
    "#prof = pd.concat([prof_1vm, prof_ss1, prof_ss2])  # total: 0.1137, max: 0.2153\n",
    "#prof = prof_ss1  # total: 0.1129, max: 0.2957\n",
    "#prof = pd.concat([prof_1vm, prof_ss1])  # total: 0.1214, max: 0.3019\n",
    "#prof = prof_1vm  # total: 0.1560, max: 0.3070\n",
    "#prof = prof_ss2  # crap\n",
    "#prof = pd.concat([prof_1vm, prof_ss2])  # crap\n",
    "#prof = pd.concat([prof_1vm, prof_ss1[prof_ss1.workers <= 2]])  # total: 0.1539, max: 0.3034\n",
    "#prof = pd.concat([prof_1vm, prof_ss1, prof_ss2[prof_ss2.workers == 3]])  # total: 0.1665, max: 0.4290"
   ]
  },
  {
   "cell_type": "code",
   "execution_count": 387,
   "metadata": {
    "collapsed": false
   },
   "outputs": [
    {
     "data": {
      "text/html": [
       "<div>\n",
       "<table border=\"1\" class=\"dataframe\">\n",
       "  <thead>\n",
       "    <tr style=\"text-align: right;\">\n",
       "      <th></th>\n",
       "      <th>workers</th>\n",
       "      <th>iters_stg0_nf</th>\n",
       "      <th>iters_stg1_nf</th>\n",
       "      <th>ms</th>\n",
       "    </tr>\n",
       "  </thead>\n",
       "  <tbody>\n",
       "    <tr>\n",
       "      <th>0</th>\n",
       "      <td>1</td>\n",
       "      <td>0</td>\n",
       "      <td>99</td>\n",
       "      <td>20442.10</td>\n",
       "    </tr>\n",
       "    <tr>\n",
       "      <th>1</th>\n",
       "      <td>1</td>\n",
       "      <td>0</td>\n",
       "      <td>99</td>\n",
       "      <td>20010.50</td>\n",
       "    </tr>\n",
       "    <tr>\n",
       "      <th>2</th>\n",
       "      <td>1</td>\n",
       "      <td>1</td>\n",
       "      <td>99</td>\n",
       "      <td>23701.30</td>\n",
       "    </tr>\n",
       "    <tr>\n",
       "      <th>3</th>\n",
       "      <td>1</td>\n",
       "      <td>3</td>\n",
       "      <td>99</td>\n",
       "      <td>29994.68</td>\n",
       "    </tr>\n",
       "    <tr>\n",
       "      <th>4</th>\n",
       "      <td>2</td>\n",
       "      <td>1</td>\n",
       "      <td>49</td>\n",
       "      <td>23622.50</td>\n",
       "    </tr>\n",
       "    <tr>\n",
       "      <th>5</th>\n",
       "      <td>4</td>\n",
       "      <td>0</td>\n",
       "      <td>24</td>\n",
       "      <td>20853.50</td>\n",
       "    </tr>\n",
       "  </tbody>\n",
       "</table>\n",
       "</div>"
      ],
      "text/plain": [
       "   workers  iters_stg0_nf  iters_stg1_nf        ms\n",
       "0        1              0             99  20442.10\n",
       "1        1              0             99  20010.50\n",
       "2        1              1             99  23701.30\n",
       "3        1              3             99  29994.68\n",
       "4        2              1             49  23622.50\n",
       "5        4              0             24  20853.50"
      ]
     },
     "metadata": {},
     "output_type": "display_data"
    },
    {
     "data": {
      "text/html": [
       "<div>\n",
       "<table border=\"1\" class=\"dataframe\">\n",
       "  <thead>\n",
       "    <tr style=\"text-align: right;\">\n",
       "      <th></th>\n",
       "      <th>workers</th>\n",
       "      <th>iters_stg0_nf</th>\n",
       "      <th>iters_stg1_nf</th>\n",
       "    </tr>\n",
       "  </thead>\n",
       "  <tbody>\n",
       "    <tr>\n",
       "      <th>0</th>\n",
       "      <td>4</td>\n",
       "      <td>45</td>\n",
       "      <td>24</td>\n",
       "    </tr>\n",
       "    <tr>\n",
       "      <th>31</th>\n",
       "      <td>8</td>\n",
       "      <td>22</td>\n",
       "      <td>12</td>\n",
       "    </tr>\n",
       "    <tr>\n",
       "      <th>61</th>\n",
       "      <td>16</td>\n",
       "      <td>11</td>\n",
       "      <td>6</td>\n",
       "    </tr>\n",
       "    <tr>\n",
       "      <th>91</th>\n",
       "      <td>32</td>\n",
       "      <td>5</td>\n",
       "      <td>3</td>\n",
       "    </tr>\n",
       "    <tr>\n",
       "      <th>121</th>\n",
       "      <td>64</td>\n",
       "      <td>2</td>\n",
       "      <td>1</td>\n",
       "    </tr>\n",
       "  </tbody>\n",
       "</table>\n",
       "</div>"
      ],
      "text/plain": [
       "     workers  iters_stg0_nf  iters_stg1_nf\n",
       "0          4             45             24\n",
       "31         8             22             12\n",
       "61        16             11              6\n",
       "91        32              5              3\n",
       "121       64              2              1"
      ]
     },
     "metadata": {},
     "output_type": "display_data"
    },
    {
     "data": {
      "text/plain": [
       "19567.042619883076"
      ]
     },
     "metadata": {},
     "output_type": "display_data"
    },
    {
     "data": {
      "text/plain": [
       "array([  296.30073099,  3256.12807018,     4.21893567])"
      ]
     },
     "metadata": {},
     "output_type": "display_data"
    },
    {
     "data": {
      "text/plain": [
       "[0.005024820013853951,\n",
       " (1, 0.007537230020779687),\n",
       " (2, 7.700240887060457e-16),\n",
       " (4, 4.186898667859165e-15)]"
      ]
     },
     "metadata": {},
     "output_type": "display_data"
    },
    {
     "data": {
      "text/plain": [
       "[0.09512356915687441,\n",
       " (4, 0.09129344994064988),\n",
       " (8, 0.09373781454607508),\n",
       " (16, 0.06847190424723225),\n",
       " (32, 0.0333416587697758),\n",
       " (64, 0.1855915115732953)]"
      ]
     },
     "metadata": {},
     "output_type": "display_data"
    },
    {
     "data": {
      "image/png": "[encoded data removed]",
      "text/plain": [
       "<matplotlib.figure.Figure at 0x7fc758fb30b8>"
      ]
     },
     "metadata": {},
     "output_type": "display_data"
    }
   ],
   "source": [
    "_prof = prof\n",
    "_prof = _prof.groupby(['workers', 'input']).mean().reset_index()\n",
    "_prof = get_extra_df(_prof, exp_info)\n",
    "_target = get_extra_df(target, exp_info)\n",
    "display(_prof)\n",
    "display(_target.drop('ms', axis=1).drop_duplicates())\n",
    "\n",
    "model = Model(LinearRegression())\n",
    "model.fit(_prof)\n",
    "linear = model.get_linreg()\n",
    "display(linear.intercept_, linear.coef_)\n",
    "display(model.score(_prof))\n",
    "#plotter = Plotter()\n",
    "#plotter.plot_model(model, _prof)\n",
    "\n",
    "display(model.score(_target))\n",
    "plotter = Plotter()\n",
    "plotter.plot_model(model, _target)"
   ]
  },
  {
   "cell_type": "code",
   "execution_count": 379,
   "metadata": {
    "collapsed": false
   },
   "outputs": [
    {
     "name": "stdout",
     "output_type": "stream",
     "text": [
      "4.218936 iters_stg1_nf\n",
      "296.300731 workers\n",
      "3256.128070 iters_stg0_nf\n"
     ]
    }
   ],
   "source": [
    "coefs = model.get_linreg().coef_\n",
    "cols = _prof.columns\n",
    "val_var = [(coef, col) for coef, col in zip(coefs, cols)]\n",
    "for value, var in sorted(val_var, key=lambda x: x[0]):\n",
    "    print('{:f} {}'.format(value, var))"
   ]
  },
  {
   "cell_type": "code",
   "execution_count": null,
   "metadata": {
    "collapsed": true
   },
   "outputs": [],
   "source": []
  }
 ],
 "metadata": {
  "kernelspec": {
   "display_name": "Python 3",
   "language": "python",
   "name": "python3"
  },
  "language_info": {
   "codemirror_mode": {
    "name": "ipython",
    "version": 3
   },
   "file_extension": ".py",
   "mimetype": "text/x-python",
   "name": "python",
   "nbconvert_exporter": "python",
   "pygments_lexer": "ipython3",
   "version": "3.5.1"
  }
 },
 "nbformat": 4,
 "nbformat_minor": 0
}
