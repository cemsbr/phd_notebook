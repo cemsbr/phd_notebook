{
 "cells": [
  {
   "cell_type": "markdown",
   "metadata": {
    "collapsed": false
   },
   "source": [
    "# Apache Spark Experiments - Wikipedia Top Contributors\n",
    "\n",
    "## Spark Application\n",
    "\n",
    "\n",
    "The application analyses the last revision of every Wikipedia page and outputs the top 10 contributors.\n",
    "Relevant lines follow:\n",
    "\n",
    "```python\n",
    "schema = StructType([\n",
    "    # ... So Spark doesn't need to scan all the data to infer its schema\n",
    "])\n",
    "\n",
    "wikiData = sqlCtx.jsonFile(\"hdfs://namenode:8020/enwiki.json\",\n",
    "                           schema=schema)\n",
    "wikiData.registerAsTable(\"wikiData\")\n",
    "users = sqlCtx.sql(\"SELECT revision.contributor.username as user, \"\n",
    "                   \"       COUNT(*) AS contribs \"\n",
    "                   \"FROM wikiData \"\n",
    "                   \"WHERE revision.contributor.username <> '' \"\n",
    "                   \"GROUP BY revision.contributor.username \"\n",
    "                   \"ORDER BY contribs DESC LIMIT 10\").collect()\n",
    "\n",
    "for user in users:\n",
    "    print(\"%s: %d\" % user)\n",
    "```\n",
    "\n",
    "Output for all the Wikipedia dump from enwiki-20150304-pages-articles.xml.bz2 (45 GB of JSON input):\n",
    "\n",
    "    Addbot: 426703\n",
    "    RjwilmsiBot: 408537\n",
    "    Xqbot: 368493\n",
    "    RussBot: 274009\n",
    "    Legobot: 267074\n",
    "    BOTijo: 245795\n",
    "    AvicBot: 229107\n",
    "    Cydebot: 224454\n",
    "    Yobot: 221754\n",
    "    EmausBot: 177984\n",
    "\n",
    "## Weak-scaling Experiment\n",
    "\n",
    "The amount of data is fixed: 1 GB per node, less than the available memory. The nodes are virtual machines from Nuvem USP."
   ]
  }
 ],
 "metadata": {
  "kernelspec": {
   "display_name": "Python 3",
   "language": "python",
   "name": "python3"
  },
  "language_info": {
   "codemirror_mode": {
    "name": "ipython",
    "version": 3
   },
   "file_extension": ".py",
   "mimetype": "text/x-python",
   "name": "python",
   "nbconvert_exporter": "python",
   "pygments_lexer": "ipython3",
   "version": "3.5.1"
  }
 },
 "nbformat": 4,
 "nbformat_minor": 0
}
